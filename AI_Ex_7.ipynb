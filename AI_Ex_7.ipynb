{
  "nbformat": 4,
  "nbformat_minor": 0,
  "metadata": {
    "colab": {
      "provenance": [],
      "include_colab_link": true
    },
    "kernelspec": {
      "name": "python3",
      "display_name": "Python 3"
    },
    "language_info": {
      "name": "python"
    }
  },
  "cells": [
    {
      "cell_type": "markdown",
      "metadata": {
        "id": "view-in-github",
        "colab_type": "text"
      },
      "source": [
        "<a href=\"https://colab.research.google.com/github/KeerthikaNagarajan/Ex-7-AAI/blob/main/AI_Ex_7.ipynb\" target=\"_parent\"><img src=\"https://colab.research.google.com/assets/colab-badge.svg\" alt=\"Open In Colab\"/></a>"
      ]
    },
    {
      "cell_type": "code",
      "execution_count": 17,
      "metadata": {
        "colab": {
          "base_uri": "https://localhost:8080/"
        },
        "id": "u8U3HvaJUz0W",
        "outputId": "d26a9bfe-7abe-4294-f012-7236bbf68fcf"
      },
      "outputs": [
        {
          "output_type": "stream",
          "name": "stdout",
          "text": [
            "Original Text:\n",
            "The original trilogy follows Luke's journey to become a Jedi and \n",
            "confront his father, Anakin Skywalker, who had fallen to the dark\n",
            "side and become Darth Vader. As Luke learns about the Force \n",
            "under the mentorship of Jedi Masters like Obi-Wan Kenobi and \n",
            "Yoda, he confronts the ultimate question of redemption and \n",
            "morality, culminating in a final showdown with Vader and the \n",
            "Emperor, which  ends with Anakin’s redemption and the fall of \n",
            "the Empire.\n",
            "\n",
            "Summary:\n",
            "As Luke learns about the Force \n",
            "under the mentorship of Jedi Masters like Obi-Wan Kenobi and \n",
            "Yoda, he confronts the ultimate question of redemption and \n",
            "morality, culminating in a final showdown with Vader and the \n",
            "Emperor, which  ends with Anakin’s redemption and the fall of \n",
            "the Empire. The original trilogy follows Luke's journey to become a Jedi and \n",
            "confront his father, Anakin Skywalker, who had fallen to the dark\n",
            "side and become Darth Vader.\n"
          ]
        },
        {
          "output_type": "stream",
          "name": "stderr",
          "text": [
            "[nltk_data] Downloading package punkt to /root/nltk_data...\n",
            "[nltk_data]   Package punkt is already up-to-date!\n",
            "[nltk_data] Downloading package stopwords to /root/nltk_data...\n",
            "[nltk_data]   Package stopwords is already up-to-date!\n"
          ]
        }
      ],
      "source": [
        "import nltk\n",
        "from nltk.corpus import stopwords\n",
        "from nltk.tokenize import word_tokenize, sent_tokenize\n",
        "from nltk.stem import PorterStemmer\n",
        "nltk.download('punkt')\n",
        "nltk.download('stopwords')\n",
        "\n",
        "def preprocess_text(text):\n",
        "    # Tokenize the text into words\n",
        "    words = word_tokenize(text)\n",
        "    # Remove stopwords and punctuation\n",
        "    stop_words = set(stopwords.words('english'))\n",
        "    filtered_words = [word for word in words if word.lower() not in stop_words and word.isalnum()]\n",
        "\n",
        "    # Stemming\n",
        "    stemmer = PorterStemmer()\n",
        "    stemmed_words = [stemmer.stem(word) for word in filtered_words]\n",
        "    return stemmed_words\n",
        "\n",
        "def generate_summary(text, num_sentences=3):\n",
        "    sentences = sent_tokenize(text)\n",
        "    preprocessed_text = preprocess_text(text)\n",
        "    # Calculate the frequency of each word\n",
        "    word_frequencies = nltk.FreqDist(preprocessed_text)\n",
        "\n",
        "    # Calculate the score for each sentence based on word frequency\n",
        "    sentence_scores = {}\n",
        "    for sentence in sentences:\n",
        "        for word, freq in word_frequencies.items():\n",
        "            if word in sentence.lower():\n",
        "                if sentence not in sentence_scores:\n",
        "                    sentence_scores[sentence] = freq\n",
        "                else:\n",
        "                    sentence_scores[sentence] += freq\n",
        "    # Select top N sentences with highest scores\n",
        "    summary_sentences = sorted(sentence_scores, key=sentence_scores.get, reverse=True)[:num_sentences]\n",
        "\n",
        "    return ' '.join(summary_sentences)\n",
        "\n",
        "if __name__ == \"__main__\":\n",
        "    # Read input from a file\n",
        "    file_path = \"sample.txt\"\n",
        "    with open(file_path, 'r') as file:\n",
        "        input_text = file.read()\n",
        "\n",
        "    summary = generate_summary(input_text)\n",
        "    print(\"Original Text:\")\n",
        "    print(input_text)\n",
        "    print(\"\\nSummary:\")\n",
        "    print(summary)\n"
      ]
    },
    {
      "cell_type": "code",
      "source": [],
      "metadata": {
        "id": "E99cNN73U3C1"
      },
      "execution_count": null,
      "outputs": []
    }
  ]
}