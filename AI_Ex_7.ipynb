{
  "nbformat": 4,
  "nbformat_minor": 0,
  "metadata": {
    "colab": {
      "provenance": [],
      "include_colab_link": true
    },
    "kernelspec": {
      "name": "python3",
      "display_name": "Python 3"
    },
    "language_info": {
      "name": "python"
    }
  },
  "cells": [
    {
      "cell_type": "markdown",
      "metadata": {
        "id": "view-in-github",
        "colab_type": "text"
      },
      "source": [
        "<a href=\"https://colab.research.google.com/github/KeerthikaNagarajan/Ex-7-AAI/blob/main/AI_Ex_7.ipynb\" target=\"_parent\"><img src=\"https://colab.research.google.com/assets/colab-badge.svg\" alt=\"Open In Colab\"/></a>"
      ]
    },
    {
      "cell_type": "code",
      "execution_count": 5,
      "metadata": {
        "colab": {
          "base_uri": "https://localhost:8080/"
        },
        "id": "u8U3HvaJUz0W",
        "outputId": "8aeece4a-3588-40c5-8d76-0455a63bf38d"
      },
      "outputs": [
        {
          "output_type": "stream",
          "name": "stdout",
          "text": [
            "Original Text: \n",
            "The original trilogy follows Luke's journey to become \n",
            "a Jedi and confront his father, Anakin Skywalker, who had fallen \n",
            "to the dark side and become Darth Vader. As Luke learns about the \n",
            "Force under the mentorship of Jedi Masters like Obi-Wan Kenobi and \n",
            "Yoda, he confronts the ultimate question of redemption and morality, \n",
            "culminating in a final showdown with Vader and the Emperor, which \n",
            "ends with Anakin’s redemption and the fall of the Empire.\n",
            " \n",
            "Summary : \n",
            "\n"
          ]
        },
        {
          "output_type": "stream",
          "name": "stderr",
          "text": [
            "[nltk_data] Downloading package punkt to /root/nltk_data...\n",
            "[nltk_data]   Package punkt is already up-to-date!\n",
            "[nltk_data] Downloading package stopwords to /root/nltk_data...\n",
            "[nltk_data]   Package stopwords is already up-to-date!\n"
          ]
        }
      ],
      "source": [
        "import nltk\n",
        "from nltk.corpus import stopwords\n",
        "from nltk.tokenize import word_tokenize,sent_tokenize\n",
        "from nltk.stem import PorterStemmer\n",
        "nltk.download( 'punkt' )\n",
        "nltk.download( 'stopwords' )\n",
        "\n",
        "def preprocess_text(text):\n",
        "\t# Tokenize the text into words\n",
        "\twords = word_tokenize(text)\n",
        "\t# Remove stopwords and punctuation\n",
        "\tstop_words= set(stopwords.words( 'english'))\n",
        "\tfiltered_words= [word for word in words if word. lower() not in stop_words and word.isalnum()]\n",
        "\n",
        "\t# Stemming\n",
        "\tstemmer = PorterStemmer()\n",
        "\n",
        "\tstemmed_words= [stemmer. stem(word) for word in filtered_words]\n",
        "\treturn stemmed_words\n",
        "\n",
        "def generate_summary(text,num_sentences=3):\n",
        "\tsentences= sent_tokenize(text)\n",
        "\tpreprocessed_text = preprocess_text(text)\n",
        "\t# Calculate the frequency of each word\n",
        "\tword_frequencies =nltk. FreqDist (preprocessed_text)\n",
        "\n",
        "\t# Calculate the score for each sentence based on word frequency\n",
        "\tsentence_scores ={}\n",
        "\tfor sentence in sentences:\n",
        "\t\tfor word, freq in word_frequencies.items():\n",
        "\t\t\tif word in sentence.lower():\n",
        "\t\t\t\tif sentence not in sentence_scores:\n",
        "\t\t\t\t\tsentence_scores[sentence] = freq\n",
        "\t\t\t\telse:\n",
        "\t\t\t\t\tsentence_scores[sentence]+= freq\n",
        "\t# Select top N sentences with highest scores\n",
        "\tsummary_sentences= sorted(sentence_scores, key=sentence_scores.get,reverse=True) [ : num_sentences]\n",
        "\n",
        "\treturn ' '. join(summary_sentences)\n",
        "\n",
        "summary = generate_summary('sample.txt')\n",
        "print(\"Original Text: \")\n",
        "with open('sample.txt', 'r') as file:\n",
        "    content = file.read()\n",
        "    print(content)\n",
        "print( \" \\nSummary : \" )\n",
        "print(summary)\n"
      ]
    },
    {
      "cell_type": "code",
      "source": [],
      "metadata": {
        "id": "E99cNN73U3C1"
      },
      "execution_count": null,
      "outputs": []
    }
  ]
}